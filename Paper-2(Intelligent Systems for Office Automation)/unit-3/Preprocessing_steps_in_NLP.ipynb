{
  "nbformat": 4,
  "nbformat_minor": 0,
  "metadata": {
    "colab": {
      "provenance": [],
      "gpuType": "T4",
      "include_colab_link": true
    },
    "kernelspec": {
      "name": "python3",
      "display_name": "Python 3"
    },
    "language_info": {
      "name": "python"
    },
    "accelerator": "GPU"
  },
  "cells": [
    {
      "cell_type": "markdown",
      "metadata": {
        "id": "view-in-github",
        "colab_type": "text"
      },
      "source": [
        "<a href=\"https://colab.research.google.com/github/Sivachandran5710/HCL-training/blob/main/Paper-2(Intelligent%20Systems%20for%20Office%20Automation)/unit-3/Preprocessing_steps_in_NLP.ipynb\" target=\"_parent\"><img src=\"https://colab.research.google.com/assets/colab-badge.svg\" alt=\"Open In Colab\"/></a>"
      ]
    },
    {
      "cell_type": "code",
      "source": [
        "!pip install -q autocorrect"
      ],
      "metadata": {
        "colab": {
          "base_uri": "https://localhost:8080/"
        },
        "id": "4iySxjio6Tmy",
        "outputId": "e9e532b8-0b34-402d-bd4e-133757510c50"
      },
      "execution_count": 4,
      "outputs": [
        {
          "output_type": "stream",
          "name": "stdout",
          "text": [
            "\u001b[?25l     \u001b[90m━━━━━━━━━━━━━━━━━━━━━━━━━━━━━━━━━━━━━━━━\u001b[0m \u001b[32m0.0/622.8 kB\u001b[0m \u001b[31m?\u001b[0m eta \u001b[36m-:--:--\u001b[0m\r\u001b[2K     \u001b[91m━━━━━━━━━━━━━━━━━━━━━━━━━━━━━━━━━━━━━\u001b[0m\u001b[90m╺\u001b[0m \u001b[32m614.4/622.8 kB\u001b[0m \u001b[31m25.0 MB/s\u001b[0m eta \u001b[36m0:00:01\u001b[0m\r\u001b[2K     \u001b[90m━━━━━━━━━━━━━━━━━━━━━━━━━━━━━━━━━━━━━━\u001b[0m \u001b[32m622.8/622.8 kB\u001b[0m \u001b[31m16.2 MB/s\u001b[0m eta \u001b[36m0:00:00\u001b[0m\n",
            "\u001b[?25h  Preparing metadata (setup.py) ... \u001b[?25l\u001b[?25hdone\n",
            "  Building wheel for autocorrect (setup.py) ... \u001b[?25l\u001b[?25hdone\n"
          ]
        }
      ]
    },
    {
      "cell_type": "code",
      "execution_count": 5,
      "metadata": {
        "colab": {
          "base_uri": "https://localhost:8080/"
        },
        "id": "ZsA2iVpg5rKq",
        "outputId": "6600165c-612c-4e47-9483-93c0b72ea5b7"
      },
      "outputs": [
        {
          "output_type": "stream",
          "name": "stdout",
          "text": [
            "Sivakasi is a major indusial city in Virudhunagar distrct of Tamil Nadu. It is famous for its firecracker, match, and printing industries. The city has a strong municipal presence. Many people find Sivakasi fascinating, but the air quality can be an issue. Firecrackers are made there.\n"
          ]
        }
      ],
      "source": [
        "import nltk\n",
        "from nltk.tokenize import sent_tokenize, word_tokenize\n",
        "from autocorrect import Speller\n",
        "from nltk import pos_tag\n",
        "from nltk.corpus import stopwords\n",
        "from nltk.stem.porter import PorterStemmer\n",
        "from nltk.stem.wordnet import WordNetLemmatizer\n",
        "\n",
        "f = open('/content/drive/MyDrive/Colab Notebooks/NLP/sivakasi.txt')\n",
        "raw = f.read()\n",
        "print(raw)"
      ]
    },
    {
      "cell_type": "code",
      "source": [
        "import nltk\n",
        "nltk.download('punkt_tab')\n",
        "words = word_tokenize(raw)\n",
        "print(f\"Initial 30 tokens: {words[:30]}\")"
      ],
      "metadata": {
        "colab": {
          "base_uri": "https://localhost:8080/"
        },
        "id": "1bG0V9t56cMK",
        "outputId": "00efe1c3-b1fc-4a75-8b4a-e4080543ad63"
      },
      "execution_count": null,
      "outputs": [
        {
          "output_type": "stream",
          "name": "stdout",
          "text": [
            "Initial 30 tokens: ['Sivakasi', 'is', 'a', 'major', 'indusial', 'city', 'in', 'Virudhunagar', 'distrct', 'of', 'Tamil', 'Nadu', '.', 'It', 'is', 'famous', 'for', 'its', 'firecracker', ',', 'match', ',', 'and', 'printing', 'industries', '.', 'The', 'city', 'has', 'a']\n"
          ]
        },
        {
          "output_type": "stream",
          "name": "stderr",
          "text": [
            "[nltk_data] Downloading package punkt_tab to /root/nltk_data...\n",
            "[nltk_data]   Package punkt_tab is already up-to-date!\n"
          ]
        }
      ]
    },
    {
      "cell_type": "code",
      "source": [
        "spell_checker = Speller()\n",
        "corrected_tokens = [spell_checker(word) for word in words]\n",
        "print(f\"Initial 10 corrected tokens: {corrected_tokens[:10]}\")\n",
        "\n",
        "corrected_text_corpus = ' '.join(corrected_tokens)\n",
        "print(f\"Corrected text corpus snippet (first 100 characters): {corrected_text_corpus[:100]}...\")"
      ],
      "metadata": {
        "colab": {
          "base_uri": "https://localhost:8080/"
        },
        "id": "qhn09rHb7dDt",
        "outputId": "f12ea3de-a4e5-4b4e-ff33-d390810cbf67"
      },
      "execution_count": null,
      "outputs": [
        {
          "output_type": "stream",
          "name": "stdout",
          "text": [
            "Initial 10 corrected tokens: ['Sivakasi', 'is', 'a', 'major', 'industrial', 'city', 'in', 'Virudhunagar', 'district', 'of']\n",
            "Corrected text corpus snippet (first 100 characters): Sivakasi is a major industrial city in Virudhunagar district of Tamil Nadu . It is famous for its fi...\n"
          ]
        }
      ]
    },
    {
      "cell_type": "code",
      "source": [
        "import nltk\n",
        "nltk.download('averaged_perceptron_tagger_eng')\n",
        "pos_tagged_tokens = nltk.pos_tag(corrected_tokens)\n",
        "print(f\"POS tagged corrected tokens (initial 10): {pos_tagged_tokens[:10]}\")"
      ],
      "metadata": {
        "colab": {
          "base_uri": "https://localhost:8080/"
        },
        "id": "hHm6SL_l9BC6",
        "outputId": "5b4f194d-da6a-488a-c472-137ae98dfa77"
      },
      "execution_count": null,
      "outputs": [
        {
          "output_type": "stream",
          "name": "stderr",
          "text": [
            "[nltk_data] Downloading package averaged_perceptron_tagger_eng to\n",
            "[nltk_data]     /root/nltk_data...\n",
            "[nltk_data]   Unzipping taggers/averaged_perceptron_tagger_eng.zip.\n"
          ]
        },
        {
          "output_type": "stream",
          "name": "stdout",
          "text": [
            "POS tagged corrected tokens (initial 10): [('Sivakasi', 'NNP'), ('is', 'VBZ'), ('a', 'DT'), ('major', 'JJ'), ('industrial', 'JJ'), ('city', 'NN'), ('in', 'IN'), ('Virudhunagar', 'NNP'), ('district', 'NN'), ('of', 'IN')]\n"
          ]
        }
      ]
    },
    {
      "cell_type": "code",
      "source": [
        "import nltk\n",
        "nltk.download('stopwords') # Download 'stopwords' if needed [cite: 128]\n",
        "from nltk.corpus import stopwords\n",
        "stop_words = set(stopwords.words('english'))\n",
        "\n",
        "filtered_tokens = [w for w in corrected_tokens if w.lower() not in stop_words]\n",
        "print(f\"Filtered tokens (initial 20, after stop word removal): {filtered_tokens[:20]}\")"
      ],
      "metadata": {
        "colab": {
          "base_uri": "https://localhost:8080/"
        },
        "id": "KPwVrWis9xVt",
        "outputId": "7e381cb8-4784-42fc-8212-3b81b6d42e00"
      },
      "execution_count": null,
      "outputs": [
        {
          "output_type": "stream",
          "name": "stdout",
          "text": [
            "Filtered tokens (initial 20, after stop word removal): ['Sivakasi', 'major', 'industrial', 'city', 'Virudhunagar', 'district', 'Tamil', 'Nadu', '.', 'famous', 'firecracker', ',', 'match', ',', 'printing', 'industries', '.', 'city', 'strong', 'municipal']\n"
          ]
        },
        {
          "output_type": "stream",
          "name": "stderr",
          "text": [
            "[nltk_data] Downloading package stopwords to /root/nltk_data...\n",
            "[nltk_data]   Package stopwords is already up-to-date!\n"
          ]
        }
      ]
    },
    {
      "cell_type": "code",
      "source": [
        "p_stemmer = PorterStemmer()\n",
        "stemmed_tokens = [p_stemmer.stem(w) for w in filtered_tokens]\n",
        "print(f\"Stemmed tokens (initial 20): {stemmed_tokens[:20]}\")"
      ],
      "metadata": {
        "colab": {
          "base_uri": "https://localhost:8080/"
        },
        "id": "akIzYHGx-oxA",
        "outputId": "ee02c46c-0787-4b91-fa40-23ec520eaa20"
      },
      "execution_count": null,
      "outputs": [
        {
          "output_type": "stream",
          "name": "stdout",
          "text": [
            "Stemmed tokens (initial 20): ['sivakasi', 'major', 'industri', 'citi', 'virudhunagar', 'district', 'tamil', 'nadu', '.', 'famou', 'firecrack', ',', 'match', ',', 'print', 'industri', '.', 'citi', 'strong', 'municip']\n"
          ]
        }
      ]
    },
    {
      "cell_type": "code",
      "source": [
        "import nltk\n",
        "nltk.download('wordnet')\n",
        "lemmatizer = WordNetLemmatizer()\n",
        "lemmatized_tokens = [lemmatizer.lemmatize(w) for w in filtered_tokens]\n",
        "print(f\"Lemmatized tokens (initial 20): {lemmatized_tokens[:20]}\")"
      ],
      "metadata": {
        "colab": {
          "base_uri": "https://localhost:8080/"
        },
        "id": "xLJvFA4sCyQh",
        "outputId": "00de49da-7b83-4ad3-8ee2-892d84c20949"
      },
      "execution_count": null,
      "outputs": [
        {
          "output_type": "stream",
          "name": "stderr",
          "text": [
            "[nltk_data] Downloading package wordnet to /root/nltk_data...\n",
            "[nltk_data]   Package wordnet is already up-to-date!\n"
          ]
        },
        {
          "output_type": "stream",
          "name": "stdout",
          "text": [
            "Lemmatized tokens (initial 20): ['Sivakasi', 'major', 'industrial', 'city', 'Virudhunagar', 'district', 'Tamil', 'Nadu', '.', 'famous', 'firecracker', ',', 'match', ',', 'printing', 'industry', '.', 'city', 'strong', 'municipal']\n"
          ]
        }
      ]
    },
    {
      "cell_type": "code",
      "source": [
        "sentences = sent_tokenize(raw)\n",
        "total_sentences = len(sentences)\n",
        "print(f\"Total number of sentences detected in the text corpus: {total_sentences}\")"
      ],
      "metadata": {
        "colab": {
          "base_uri": "https://localhost:8080/"
        },
        "id": "zUvaGrC9DTGW",
        "outputId": "9793ad10-d1aa-47fb-bf5d-e06139d675c1"
      },
      "execution_count": null,
      "outputs": [
        {
          "output_type": "stream",
          "name": "stdout",
          "text": [
            "Total number of sentences detected in the text corpus: 5\n"
          ]
        }
      ]
    }
  ]
}